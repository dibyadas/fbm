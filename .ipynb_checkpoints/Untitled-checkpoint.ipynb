{
 "cells": [
  {
   "cell_type": "code",
   "execution_count": 1,
   "metadata": {
    "collapsed": true
   },
   "outputs": [],
   "source": [
    "import fbchat"
   ]
  },
  {
   "cell_type": "code",
   "execution_count": 2,
   "metadata": {
    "collapsed": false
   },
   "outputs": [
    {
     "name": "stdout",
     "output_type": "stream",
     "text": [
      "Logging in...\n",
      "login successful\n"
     ]
    }
   ],
   "source": [
    "me = fbchat.Client('dibya.das.1069','nandaDAS@99')"
   ]
  },
  {
   "cell_type": "code",
   "execution_count": 3,
   "metadata": {
    "collapsed": false
   },
   "outputs": [
    {
     "name": "stdout",
     "output_type": "stream",
     "text": [
      "Reciever:-abhinav\n"
     ]
    }
   ],
   "source": [
    "fr = me.getUsers(input(\"Reciever:-\"))\n"
   ]
  },
  {
   "cell_type": "code",
   "execution_count": 8,
   "metadata": {
    "collapsed": false
   },
   "outputs": [
    {
     "data": {
      "text/plain": [
       "[<USER Abhinav Sirohi (https://www.facebook.com/abhinav.sirohi.509)>,\n",
       " <USER Abhinav Bhatt (https://www.facebook.com/abhinav.bhatt.1257)>,\n",
       " <USER Abhinav Dhole (https://www.facebook.com/abhinavd73)>,\n",
       " <USER Abhinav Jha (https://www.facebook.com/profile.php?id=100009437989867)>,\n",
       " <USER Abhinav Tode (https://www.facebook.com/abhinav.tode)>,\n",
       " <USER Abhinav Kumar (https://www.facebook.com/abhinav.akr)>,\n",
       " <USER Abhinav Mishra (https://www.facebook.com/profile.php?id=100009876214071)>,\n",
       " <USER Abhinav Singh (https://www.facebook.com/abhinav.singh.9231712)>,\n",
       " <USER Abhinav Sharma (https://www.facebook.com/AbhinavandScience)>,\n",
       " <USER Abhinav Sharma (https://www.facebook.com/abhinav.sharma16196)>]"
      ]
     },
     "execution_count": 8,
     "metadata": {},
     "output_type": "execute_result"
    }
   ],
   "source": [
    "fr"
   ]
  },
  {
   "cell_type": "code",
   "execution_count": 9,
   "metadata": {
    "collapsed": false
   },
   "outputs": [
    {
     "data": {
      "text/plain": [
       "list"
      ]
     },
     "execution_count": 9,
     "metadata": {},
     "output_type": "execute_result"
    }
   ],
   "source": [
    "type(fr)"
   ]
  },
  {
   "cell_type": "code",
   "execution_count": 10,
   "metadata": {
    "collapsed": false
   },
   "outputs": [],
   "source": [
    "rec = fr[0]"
   ]
  },
  {
   "cell_type": "raw",
   "metadata": {},
   "source": []
  },
  {
   "cell_type": "code",
   "execution_count": 11,
   "metadata": {
    "collapsed": false
   },
   "outputs": [
    {
     "name": "stdout",
     "output_type": "stream",
     "text": [
      "<USER Abhinav Sirohi (https://www.facebook.com/abhinav.sirohi.509)>\n"
     ]
    }
   ],
   "source": [
    "print(rec)"
   ]
  },
  {
   "cell_type": "code",
   "execution_count": null,
   "metadata": {
    "collapsed": false
   },
   "outputs": [],
   "source": []
  },
  {
   "cell_type": "code",
   "execution_count": null,
   "metadata": {
    "collapsed": true
   },
   "outputs": [],
   "source": [
    "con = input(\"Send message to \"+str(rec)[5:]+\"(y/n)?\")"
   ]
  },
  {
   "cell_type": "code",
   "execution_count": null,
   "metadata": {
    "collapsed": true
   },
   "outputs": [],
   "source": [
    "con"
   ]
  },
  {
   "cell_type": "code",
   "execution_count": null,
   "metadata": {
    "collapsed": true
   },
   "outputs": [],
   "source": [
    "    "
   ]
  }
 ],
 "metadata": {
  "kernelspec": {
   "display_name": "Python 3",
   "language": "python",
   "name": "python3"
  },
  "language_info": {
   "codemirror_mode": {
    "name": "ipython",
    "version": 3
   },
   "file_extension": ".py",
   "mimetype": "text/x-python",
   "name": "python",
   "nbconvert_exporter": "python",
   "pygments_lexer": "ipython3",
   "version": "3.5.2"
  }
 },
 "nbformat": 4,
 "nbformat_minor": 2
}
